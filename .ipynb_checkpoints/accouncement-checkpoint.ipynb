{
 "cells": [
  {
   "cell_type": "markdown",
   "metadata": {},
   "source": [
    "# Railway announcement for dynamic train enroute, source, destination and platform number"
   ]
  },
  {
   "cell_type": "markdown",
   "metadata": {},
   "source": [
    "### Import al necessary libraries"
   ]
  },
  {
   "cell_type": "code",
   "execution_count": 1,
   "metadata": {},
   "outputs": [],
   "source": [
    "import os\n",
    "import pandas as pd\n",
    "from pydub import AudioSegment\n",
    "from gtts import gTTS"
   ]
  },
  {
   "cell_type": "markdown",
   "metadata": {},
   "source": [
    "### Function to convert text to speech and save to a file"
   ]
  },
  {
   "cell_type": "code",
   "execution_count": 2,
   "metadata": {},
   "outputs": [],
   "source": [
    "def text_to_speech_to_file(text, filename):\n",
    "    strText = str(Text)\n",
    "    language = 'en'\n",
    "    gSpeech = gTTS(strText, lang=language, slow=False)\n",
    "    gSpeech.save(filename)"
   ]
  },
  {
   "cell_type": "markdown",
   "metadata": {},
   "source": [
    "### Get pydubs audio segments and combine all of them together"
   ]
  },
  {
   "cell_type": "code",
   "execution_count": 3,
   "metadata": {},
   "outputs": [],
   "source": [
    "def merge_audios(list_of_audio_files):\n",
    "    combined_audio = AudioSegment.empty()\n",
    "    for audio in list_of_audio_files:\n",
    "        combined_audio += AudioSegment.from_mp3(audio)\n",
    "    return combined_audio"
   ]
  },
  {
   "cell_type": "markdown",
   "metadata": {},
   "source": [
    "### Generate fixed sequence of audio snippet for annuncement"
   ]
  },
  {
   "cell_type": "code",
   "execution_count": 18,
   "metadata": {},
   "outputs": [],
   "source": [
    "def generate_fixed_audio_content():\n",
    "    audio = AudioSegment.from_mp3('railway.mp3')\n",
    "    \n",
    "    # 1 - kripya dheyan dijiye\n",
    "    print(\"Extraction for - kripya dheyan dijiye ..\")    \n",
    "    start = 88000\n",
    "    finish = 90200\n",
    "    audioProcessed = audio[start:finish]\n",
    "    audioProcessed.export(\"1_hindi.mp3\", format=\"mp3\")\n",
    "    \n",
    "    # 2 - from city - to be filled dynamically\n",
    "    \n",
    "    # 3 -  se chalkar\n",
    "    print(\"Extraction for - se chalkar ..\")\n",
    "    start = 91000\n",
    "    finish = 92200\n",
    "    audioProcessed = audio[start:finish]\n",
    "    audioProcessed.export(\"3_hindi.mp3\", format = \"mp3\")\n",
    "    \n",
    "    # 4 - via city - to be filled dynamically\n",
    "    \n",
    "    # 5 - ke raaste\n",
    "    print(\"Extraction for - se chalkar ..\")    \n",
    "    start = 94000\n",
    "    finish = 95000\n",
    "    audioProcessed = audio[start:finish]\n",
    "    audioProcessed.export(\"5_hindi.mp3\", format = \"mp3\")\n",
    "    \n",
    "    # 6 - to city - to be filled dynamically\n",
    "    \n",
    "    # 7 - ko jaane wali gaadi ki sankhya\n",
    "    print(\"Extraction for - ko jaane wali gaadi ki sankhya ..\")    \n",
    "    start = 96000\n",
    "    finish = 98900\n",
    "    audioProcessed = audio[start:finish]\n",
    "    audioProcessed.export(\"7_hindi.mp3\", format = \"mp3\")    \n",
    "    \n",
    "    # 8 - train number and name - to be filled dynamically\n",
    "    \n",
    "    # 9 - kuch hi samay me platform sankhya\n",
    "    print(\"Extraction for - kuch hi samay me platform sankhya ..\")\n",
    "    start = 105500\n",
    "    finish = 108200\n",
    "    audioProcessed = audio[start:finish]\n",
    "    audioProcessed.export(\"9_hindi.mp3\", format = \"mp3\") \n",
    "    \n",
    "    # 10 - platform number - to be filled dynamically\n",
    "    \n",
    "    # 11 - par aa rahi hei\n",
    "    print(\"Extraction for - par aa rahi hei ..\")\n",
    "    start = 10900\n",
    "    finish = 112250\n",
    "    audioProcessed = audio[start:finish]\n",
    "    audioProcessed.export(\"11_hindi.mp3\", format = \"mp3\")    "
   ]
  },
  {
   "cell_type": "markdown",
   "metadata": {},
   "source": [
    "### Backfill dynamic content and complete the audio sequences"
   ]
  },
  {
   "cell_type": "code",
   "execution_count": 5,
   "metadata": {},
   "outputs": [],
   "source": [
    "def generate_dynamic_audio_content(filename):\n",
    "    df = pd.read_excel(filename)\n",
    "    print(df)\n",
    "    for idx, items in df.iterrows():\n",
    "        # 2 - from city\n",
    "        print(f\"processing for {items['from']}\")\n",
    "        text_to_speech_to_file(items['from'], \"2_hindi.mp3\")\n",
    "        # 4 - via city\n",
    "        text_to_speech_to_file(items['via'], \"4_hindi.mp3\")\n",
    "        # 6 - to city\n",
    "        text_to_speech_to_file(items['to'], \"6_hindi.mp3\")\n",
    "        # 8 - train number and name\n",
    "        text_to_speech_to_file(items['train_no'] + \" \" + items['train_name'], \"8_hindi.mp3\")\n",
    "        # 10 - platform number\n",
    "        text_to_speech_to_file(items['platform'], \"10_hindi.mp3\")\n",
    "\n",
    "        audios = [f\"{i}_hindi.mp3\" for i in range(1, 12)]\n",
    "        announcement = merge_audios(audios)\n",
    "        announcement.export(f\"announcement_{items['train_no']}_{idx + 1}.mp3\", format=\"mp3\")"
   ]
  },
  {
   "cell_type": "markdown",
   "metadata": {},
   "source": [
    "### Combine static and dynamic audio content and generate complete sequence"
   ]
  },
  {
   "cell_type": "markdown",
   "metadata": {},
   "source": [
    "## Main Entrypoint"
   ]
  },
  {
   "cell_type": "code",
   "execution_count": null,
   "metadata": {},
   "outputs": [],
   "source": [
    "print(\"Generate static audio content\")\n",
    "generate_fixed_audio_content()\n",
    "print(\"Generate dynamic audio content\")\n",
    "generate_dynamic_audio_content(\"announce_hindi.xlsx\")"
   ]
  },
  {
   "cell_type": "markdown",
   "metadata": {},
   "source": [
    "## Listen to the announcements"
   ]
  },
  {
   "cell_type": "code",
   "execution_count": 34,
   "metadata": {},
   "outputs": [],
   "source": [
    "!pip install html"
   ]
  },
  {
   "cell_type": "code",
   "execution_count": 41,
   "metadata": {},
   "outputs": [
    {
     "data": {
      "text/html": [
       "\n",
       "                <audio  controls=\"controls\" autoplay=\"autoplay\">\n",
       "                    <source src=\"data:audio/mpeg;base64,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\" type=\"audio/mpeg\" />\n",
       "                    Your browser does not support the audio element.\n",
       "                </audio>\n",
       "              "
      ],
      "text/plain": [
       "<IPython.lib.display.Audio object>"
      ]
     },
     "execution_count": 41,
     "metadata": {},
     "output_type": "execute_result"
    }
   ],
   "source": [
    "from IPython.display import Audio\n",
    "sound_file = '2_hindi.mp3'\n",
    "Audio(sound_file, autoplay=True)"
   ]
  }
 ],
 "metadata": {
  "kernelspec": {
   "display_name": "Python 3",
   "language": "python",
   "name": "python3"
  },
  "language_info": {
   "codemirror_mode": {
    "name": "ipython",
    "version": 3
   },
   "file_extension": ".py",
   "mimetype": "text/x-python",
   "name": "python",
   "nbconvert_exporter": "python",
   "pygments_lexer": "ipython3",
   "version": "3.8.5"
  }
 },
 "nbformat": 4,
 "nbformat_minor": 4
}
